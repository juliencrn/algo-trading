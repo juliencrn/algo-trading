{
 "cells": [
  {
   "cell_type": "markdown",
   "metadata": {},
   "source": [
    "# VWAP Strategy\n",
    "\n",
    "VWAP: Volume Weighted Average Price\n",
    "\n",
    "LONG when the price is under the VWAP range.\n",
    "SHORT when the price is over the VWAP range."
   ]
  },
  {
   "cell_type": "code",
   "execution_count": 1,
   "metadata": {},
   "outputs": [],
   "source": [
    "import pandas as pd"
   ]
  },
  {
   "cell_type": "code",
   "execution_count": 2,
   "metadata": {},
   "outputs": [],
   "source": [
    "df = pd.read_csv('../input/btc-usd-5m.csv')"
   ]
  },
  {
   "cell_type": "code",
   "execution_count": 3,
   "metadata": {},
   "outputs": [
    {
     "data": {
      "text/html": [
       "<div>\n",
       "<style scoped>\n",
       "    .dataframe tbody tr th:only-of-type {\n",
       "        vertical-align: middle;\n",
       "    }\n",
       "\n",
       "    .dataframe tbody tr th {\n",
       "        vertical-align: top;\n",
       "    }\n",
       "\n",
       "    .dataframe thead th {\n",
       "        text-align: right;\n",
       "    }\n",
       "</style>\n",
       "<table border=\"1\" class=\"dataframe\">\n",
       "  <thead>\n",
       "    <tr style=\"text-align: right;\">\n",
       "      <th></th>\n",
       "      <th>Datetime</th>\n",
       "      <th>Open</th>\n",
       "      <th>High</th>\n",
       "      <th>Low</th>\n",
       "      <th>Close</th>\n",
       "      <th>Adj Close</th>\n",
       "      <th>Volume</th>\n",
       "    </tr>\n",
       "  </thead>\n",
       "  <tbody>\n",
       "    <tr>\n",
       "      <th>0</th>\n",
       "      <td>2022-04-17 19:45:00+00:00</td>\n",
       "      <td>40175.125000</td>\n",
       "      <td>40293.312500</td>\n",
       "      <td>40175.125000</td>\n",
       "      <td>40293.312500</td>\n",
       "      <td>40293.312500</td>\n",
       "      <td>0</td>\n",
       "    </tr>\n",
       "    <tr>\n",
       "      <th>1</th>\n",
       "      <td>2022-04-17 19:50:00+00:00</td>\n",
       "      <td>40316.824219</td>\n",
       "      <td>40382.191406</td>\n",
       "      <td>40316.824219</td>\n",
       "      <td>40382.191406</td>\n",
       "      <td>40382.191406</td>\n",
       "      <td>133923840</td>\n",
       "    </tr>\n",
       "    <tr>\n",
       "      <th>2</th>\n",
       "      <td>2022-04-17 19:55:00+00:00</td>\n",
       "      <td>40380.207031</td>\n",
       "      <td>40380.320312</td>\n",
       "      <td>40369.675781</td>\n",
       "      <td>40369.675781</td>\n",
       "      <td>40369.675781</td>\n",
       "      <td>107765760</td>\n",
       "    </tr>\n",
       "    <tr>\n",
       "      <th>3</th>\n",
       "      <td>2022-04-17 20:00:00+00:00</td>\n",
       "      <td>40370.089844</td>\n",
       "      <td>40393.433594</td>\n",
       "      <td>40370.089844</td>\n",
       "      <td>40393.433594</td>\n",
       "      <td>40393.433594</td>\n",
       "      <td>25071616</td>\n",
       "    </tr>\n",
       "    <tr>\n",
       "      <th>4</th>\n",
       "      <td>2022-04-17 20:05:00+00:00</td>\n",
       "      <td>40406.847656</td>\n",
       "      <td>40406.847656</td>\n",
       "      <td>40402.527344</td>\n",
       "      <td>40402.527344</td>\n",
       "      <td>40402.527344</td>\n",
       "      <td>47454208</td>\n",
       "    </tr>\n",
       "  </tbody>\n",
       "</table>\n",
       "</div>"
      ],
      "text/plain": [
       "                    Datetime          Open          High           Low  \\\n",
       "0  2022-04-17 19:45:00+00:00  40175.125000  40293.312500  40175.125000   \n",
       "1  2022-04-17 19:50:00+00:00  40316.824219  40382.191406  40316.824219   \n",
       "2  2022-04-17 19:55:00+00:00  40380.207031  40380.320312  40369.675781   \n",
       "3  2022-04-17 20:00:00+00:00  40370.089844  40393.433594  40370.089844   \n",
       "4  2022-04-17 20:05:00+00:00  40406.847656  40406.847656  40402.527344   \n",
       "\n",
       "          Close     Adj Close     Volume  \n",
       "0  40293.312500  40293.312500          0  \n",
       "1  40382.191406  40382.191406  133923840  \n",
       "2  40369.675781  40369.675781  107765760  \n",
       "3  40393.433594  40393.433594   25071616  \n",
       "4  40402.527344  40402.527344   47454208  "
      ]
     },
     "execution_count": 3,
     "metadata": {},
     "output_type": "execute_result"
    }
   ],
   "source": [
    "df.head()"
   ]
  }
 ],
 "metadata": {
  "interpreter": {
   "hash": "b0fa6594d8f4cbf19f97940f81e996739fb7646882a419484c72d19e05852a7e"
  },
  "kernelspec": {
   "display_name": "Python 3.9.12 64-bit",
   "language": "python",
   "name": "python3"
  },
  "language_info": {
   "codemirror_mode": {
    "name": "ipython",
    "version": 3
   },
   "file_extension": ".py",
   "mimetype": "text/x-python",
   "name": "python",
   "nbconvert_exporter": "python",
   "pygments_lexer": "ipython3",
   "version": "3.9.12"
  },
  "orig_nbformat": 4
 },
 "nbformat": 4,
 "nbformat_minor": 2
}
