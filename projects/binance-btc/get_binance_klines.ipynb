{
 "cells": [
  {
   "cell_type": "markdown",
   "metadata": {},
   "source": [
    "# Get klines on Binance"
   ]
  },
  {
   "cell_type": "code",
   "execution_count": 11,
   "metadata": {},
   "outputs": [],
   "source": [
    "import numpy as np\n",
    "import pandas as pd\n",
    "import requests"
   ]
  },
  {
   "cell_type": "code",
   "execution_count": 12,
   "metadata": {},
   "outputs": [],
   "source": [
    "symbol = \"BTCUSDT\"\n",
    "interval = \"1m\""
   ]
  },
  {
   "cell_type": "code",
   "execution_count": 13,
   "metadata": {},
   "outputs": [],
   "source": [
    "API_URL = 'https://api.binance.com/api/v3'\n",
    "\n",
    "def get_historical(symbol, interval):\n",
    "    '''\n",
    "    Fetch historical prices from binance (klines)\n",
    "    Prepare it and return it as a fresh new DataFrame\n",
    "\n",
    "    Parameters:\n",
    "    ===========\n",
    "    symbol: str\n",
    "        trading pair symbol (uppercase)\n",
    "    interval: str\n",
    "        tick interval: 1m, 3m, 5m, 15m, 30m, 1h, 2h, 4h, 6h, 8h, 12h, 1d, 3d, 1w, 1M\n",
    "\n",
    "    Returns:\n",
    "\n",
    "    '''\n",
    "\n",
    "    try:\n",
    "        url = f\"{API_URL}/klines?symbol={symbol.upper()}&interval={interval}&limit=1000\"\n",
    "        data = requests.get(url).json()\n",
    "    except requests.exceptions.RequestException as e:\n",
    "        raise SystemExit(e)\n",
    "\n",
    "    raws = []\n",
    "    for tick in data:\n",
    "        time = pd.to_datetime(tick[0], unit='ms')\n",
    "        close = float(tick[4])\n",
    "        raws.append([time, close])\n",
    "\n",
    "    df = pd.DataFrame(raws, columns=['Date', 'price'])\n",
    "    df.set_index('Date', inplace=True)\n",
    "    df['return'] = np.log(df['price'] / df['price'].shift(1))\n",
    "    return df.dropna()"
   ]
  },
  {
   "cell_type": "code",
   "execution_count": 14,
   "metadata": {},
   "outputs": [],
   "source": [
    "df = get_historical(symbol, interval)"
   ]
  },
  {
   "cell_type": "code",
   "execution_count": 15,
   "metadata": {},
   "outputs": [],
   "source": [
    "df.to_csv(f\"{symbol}-{interval}.csv\")"
   ]
  }
 ],
 "metadata": {
  "kernelspec": {
   "display_name": "Python 3.8.9 64-bit",
   "language": "python",
   "name": "python3"
  },
  "language_info": {
   "codemirror_mode": {
    "name": "ipython",
    "version": 3
   },
   "file_extension": ".py",
   "mimetype": "text/x-python",
   "name": "python",
   "nbconvert_exporter": "python",
   "pygments_lexer": "ipython3",
   "version": "3.8.9"
  },
  "orig_nbformat": 4,
  "vscode": {
   "interpreter": {
    "hash": "31f2aee4e71d21fbe5cf8b01ff0e069b9275f58929596ceb00d14d90e3e16cd6"
   }
  }
 },
 "nbformat": 4,
 "nbformat_minor": 2
}
