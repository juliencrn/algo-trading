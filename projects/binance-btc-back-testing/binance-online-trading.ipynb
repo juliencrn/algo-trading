{
 "cells": [
  {
   "cell_type": "code",
   "execution_count": null,
   "metadata": {},
   "outputs": [],
   "source": [
    "import pandas as pd\n",
    "import numpy as np\n",
    "import datetime as dt\n",
    "import websocket\n",
    "import json\n",
    "import os\n",
    "import configparser\n",
    "from binance.client import Client\n",
    "from binance.enums import *\n",
    "# from enum import Enum\n",
    "# import math\n",
    "# import time"
   ]
  },
  {
   "cell_type": "code",
   "execution_count": null,
   "metadata": {},
   "outputs": [],
   "source": [
    "config = configparser.ConfigParser()\n",
    "config.read(\"./env.cfg\")\n"
   ]
  },
  {
   "cell_type": "code",
   "execution_count": null,
   "metadata": {},
   "outputs": [],
   "source": [
    "client = Client(config['binance-testnet']['api_key'], config['binance-testnet']['api_secret'], testnet=True)"
   ]
  },
  {
   "cell_type": "code",
   "execution_count": null,
   "metadata": {},
   "outputs": [],
   "source": [
    "client.get_asset_balance(asset='BTC')\n",
    "\n",
    "# {'asset': 'BTC', 'free': '1.00000000', 'locked': '0.00000000'}"
   ]
  },
  {
   "cell_type": "code",
   "execution_count": null,
   "metadata": {},
   "outputs": [],
   "source": [
    "client.get_asset_balance(asset='USDT')\n",
    "\n",
    "# {'asset': 'USDT', 'free': '9999.01016524', 'locked': '0.00000000'}"
   ]
  },
  {
   "cell_type": "code",
   "execution_count": null,
   "metadata": {},
   "outputs": [],
   "source": [
    "client.get_my_trades(symbol='BTCUSDT')\n",
    "\n",
    "# [\n",
    "#     {\n",
    "#         'symbol': 'BTCUSDT',\n",
    "#         'id': 501256,\n",
    "#         'orderId': 1793805,\n",
    "#         'orderListId': -1,\n",
    "#         'price': '24189.74000000',\n",
    "#         'qty': '0.08202800',\n",
    "#         'quoteQty': '1984.23599272',\n",
    "#         'commission': '0.00000000',\n",
    "#         'commissionAsset': 'BTC',\n",
    "#         'time': 1659971422618,\n",
    "#         'isBuyer': True,\n",
    "#         'isMaker': False,\n",
    "#         'isBestMatch': True\n",
    "#     }\n",
    "# ]"
   ]
  },
  {
   "cell_type": "code",
   "execution_count": null,
   "metadata": {},
   "outputs": [],
   "source": [
    "def order(side, qty: float) -> bool:\n",
    "    ''' Place a buy or sell order\n",
    "    \n",
    "    arguments: \n",
    "    - side: should be 'BUY' or 'SELL'\n",
    "\n",
    "    returns bool, True in case of success\n",
    "    '''\n",
    "    try:\n",
    "        print(f\"place {side} order\")\n",
    "        order = client.create_order(\n",
    "            symbol='BTCUSDT',\n",
    "            side=side,\n",
    "            type=ORDER_TYPE_MARKET,\n",
    "            quantity=qty,\n",
    "        )\n",
    "        print(order)\n",
    "\n",
    "    except Exception as e:\n",
    "        print(f\"Error: {e}\")\n",
    "        return False\n",
    "\n",
    "    return True \n",
    "\n",
    "def buy(qty: float = 0.01):\n",
    "    order(SIDE_BUY, qty)\n",
    "\n",
    "def sell(qty: float = 0.01):\n",
    "    order(SIDE_SELL, qty)"
   ]
  },
  {
   "cell_type": "code",
   "execution_count": null,
   "metadata": {},
   "outputs": [],
   "source": [
    "# buy()\n",
    "sell()\n"
   ]
  },
  {
   "cell_type": "code",
   "execution_count": null,
   "metadata": {},
   "outputs": [],
   "source": [
    "WS_URL = 'wss://stream.binance.us:9443/ws/btcusdt@kline_1m'\n",
    "\n",
    "class OnlineTrading(object):\n",
    "\n",
    "    def __init__(self, momentum: int = 1):\n",
    "        self.data = pd.DataFrame()\n",
    "        self.momentum = momentum\n",
    "        self.position = 0\n",
    "        self.min_length = momentum + 2\n",
    "\n",
    "    def run(self):\n",
    "        ws = websocket.WebSocketApp(\n",
    "            WS_URL,\n",
    "            on_open=self.__on_open,\n",
    "            on_message=self.__on_message,\n",
    "            on_close=self.__on_close\n",
    "        )\n",
    "        ws.run_forever()\n",
    "\n",
    "    def __on_open(self, ws):\n",
    "        print(\"Connection established\")\n",
    "\n",
    "    def __on_close(self, ws, code, msg):\n",
    "        print(f\"Connection closed, close position by selling.\")\n",
    "        self.sell()\n",
    "\n",
    "    def __on_message(self, ws, message):\n",
    "        data = json.loads(message)\n",
    "        close = float(data['k']['c'])\n",
    "        date = dt.datetime.fromtimestamp(int(int(data['E']) / 1000))\n",
    "        is_candle_closed = True #bool(data['k']['x'])\n",
    "\n",
    "        if is_candle_closed:\n",
    "            # create & append new candle to self.data\n",
    "            new_candle = pd.DataFrame({ \"price\": close }, index=[date])\n",
    "            new_candle.index.name = 'Date'\n",
    "            self.data = pd.concat([self.data, new_candle])\n",
    "\n",
    "            dr = self.data.resample('15s', label='right').last()\n",
    "            dr['return'] = np.log(dr['price'] / dr['price'].shift(1))\n",
    "            dr['momentum'] = np.sign(dr['return'].rolling(self.momentum).mean())\n",
    "        \n",
    "            if len(dr) > self.min_length:\n",
    "                if dr['momentum'].iloc[-2] > 0 and self.position == 0:\n",
    "                    self.buy()\n",
    "                elif dr['momentum'].iloc[-2] < 0 and self.position == 1:\n",
    "                    self.sell()\n",
    "\n",
    "\n",
    "    def buy(self):\n",
    "        print(\"buy! buy! buy!\")\n",
    "        self.position = 1\n",
    "\n",
    "    def sell(self):\n",
    "        print(\"sell! sell! sell!\")\n",
    "        self.position = 0\n",
    "\n",
    "bot = OnlineTrading()\n",
    "bot.run()"
   ]
  }
 ],
 "metadata": {
  "kernelspec": {
   "display_name": "Python 3.8.9 64-bit",
   "language": "python",
   "name": "python3"
  },
  "language_info": {
   "codemirror_mode": {
    "name": "ipython",
    "version": 3
   },
   "file_extension": ".py",
   "mimetype": "text/x-python",
   "name": "python",
   "nbconvert_exporter": "python",
   "pygments_lexer": "ipython3",
   "version": "3.8.9"
  },
  "orig_nbformat": 4,
  "vscode": {
   "interpreter": {
    "hash": "31f2aee4e71d21fbe5cf8b01ff0e069b9275f58929596ceb00d14d90e3e16cd6"
   }
  }
 },
 "nbformat": 4,
 "nbformat_minor": 2
}
