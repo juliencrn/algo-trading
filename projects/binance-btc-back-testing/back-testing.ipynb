{
 "cells": [
  {
   "cell_type": "markdown",
   "metadata": {},
   "source": [
    "# Back-testing"
   ]
  },
  {
   "cell_type": "code",
   "execution_count": null,
   "metadata": {},
   "outputs": [],
   "source": [
    "import numpy as np\n",
    "import pandas as pd\n",
    "import datetime as dt\n",
    "import matplotlib.pyplot as plt"
   ]
  },
  {
   "cell_type": "code",
   "execution_count": null,
   "metadata": {},
   "outputs": [],
   "source": [
    "symbol = \"BTCUSDT\"\n",
    "interval = \"1m\""
   ]
  },
  {
   "cell_type": "code",
   "execution_count": null,
   "metadata": {},
   "outputs": [],
   "source": [
    "df = pd.read_csv(f\"{symbol}-{interval}.csv\", parse_dates=True, index_col=0)"
   ]
  },
  {
   "cell_type": "markdown",
   "metadata": {},
   "source": [
    "### Back-test SMA Strategy in a vector fashion\n",
    "\n",
    "🎯 Goal: Find the better parameters"
   ]
  },
  {
   "cell_type": "code",
   "execution_count": null,
   "metadata": {},
   "outputs": [],
   "source": [
    "from SMABackTester import SMABackTester \n",
    "\n",
    "sma_bt = SMABackTester(df, verbose=False)\n",
    "\n",
    "result = sma_bt.optimize_parameters((6, 101, 4), (50, 301, 4))\n",
    "\n",
    "print(f\"winner SMAs: {result[0][0], result[0][1]}\")\n",
    "print(f\"winner perf: {result[1]}\")"
   ]
  },
  {
   "cell_type": "code",
   "execution_count": null,
   "metadata": {},
   "outputs": [],
   "source": [
    "sma_bt.plot_results()"
   ]
  },
  {
   "cell_type": "markdown",
   "metadata": {},
   "source": [
    "### Event based back testing\n",
    "\n",
    "🎯 Goal: Get closer to real trading by adding the notion of balance and in a loop fashion to handle real-time data, soon."
   ]
  },
  {
   "cell_type": "markdown",
   "metadata": {},
   "source": [
    "#### 1. Test the base class for BTC-USDT 1m"
   ]
  },
  {
   "cell_type": "code",
   "execution_count": null,
   "metadata": {},
   "outputs": [],
   "source": [
    "from BackTestBase import BackTestBase\n",
    "\n",
    "start = dt.datetime(2022, 6, 1)\n",
    "end = dt.datetime(2022, 6, 2)\n",
    "\n",
    "bt_base = BackTestBase(start, end, 10000)"
   ]
  },
  {
   "cell_type": "code",
   "execution_count": null,
   "metadata": {},
   "outputs": [],
   "source": [
    "bt_base.plot_data()"
   ]
  },
  {
   "cell_type": "markdown",
   "metadata": {},
   "source": [
    "#### 2. Back-test some trading strategies\n",
    "\n",
    "We'll use a long-only strategy because we'll trade on spots."
   ]
  },
  {
   "cell_type": "code",
   "execution_count": null,
   "metadata": {},
   "outputs": [],
   "source": [
    "# from BackTestLongOnly import BackTestLongOnly\n",
    "\n",
    "# Function forked from BackTestLongOnly\n",
    "# used for dev purpose\n",
    "# TODO: Move it in a .py module\n",
    "class BackTestLongOnly(BackTestBase):\n",
    "    def run_sma_strategy(self, SMA1, SMA2):\n",
    "        ''' Back-testing a SMA-based strategy.\n",
    "\n",
    "        Parameters\n",
    "        ==========\n",
    "        SMA1, SMA2: int\n",
    "            shorter and longer term simple moving average (in days)\n",
    "        '''\n",
    "        msg = f'\\n\\nRunning SMA strategy | SMA1={SMA1} & SMA2={SMA2}'\n",
    "        msg += f'\\nfixed costs {self.ftc} | '\n",
    "        msg += f'proportional costs {self.ptc}'\n",
    "        print(msg)\n",
    "        print('=' * 55)\n",
    "        self.position = 0  # initial neutral position\n",
    "        self.trades = 0  # no trades yet\n",
    "        self.amount = self.initial_amount  # reset initial capital\n",
    "\n",
    "        # Copy general data to print meaningful charts without mutate original data with specific fields\n",
    "        raw = self.data.copy()\n",
    "        raw['SMA1'] = raw['price'].rolling(SMA1).mean()\n",
    "        raw['SMA2'] = raw['price'].rolling(SMA2).mean()\n",
    "        raw['position'] = 0\n",
    "        \n",
    "        bar = 0\n",
    "        for bar in range(SMA2, len(raw)):\n",
    "            if self.position == 0:\n",
    "                if raw['SMA1'].iloc[bar] > raw['SMA2'].iloc[bar]:\n",
    "                    self.place_buy_order(bar, amount=self.amount)\n",
    "                    self.position = 1  # long position\n",
    "                    \n",
    "            elif self.position == 1:\n",
    "                if raw['SMA1'].iloc[bar] < raw['SMA2'].iloc[bar]:\n",
    "                    self.place_sell_order(bar, units=self.units)\n",
    "                    self.position = 0  # market neutral\n",
    "\n",
    "            # add position and balance to the DataFrame\n",
    "            price = self.get_date_price(bar)[1]\n",
    "            valuation = self.units * price + self.amount\n",
    "            raw.at[raw.index[bar], 'valuation'] = valuation\n",
    "            raw.at[raw.index[bar], 'position'] = self.position\n",
    "\n",
    "        self.close_out(bar)\n",
    "        self.print_strategy_resume(bar)\n",
    "\n",
    "        # Calc performance\n",
    "        raw['strategy'] = np.log(raw['valuation'] / raw['valuation'].shift(1))\n",
    "        raw['cum_returns'] = raw['return'].cumsum().apply(np.exp)\n",
    "        raw['cum_strategy'] = raw['strategy'].cumsum().apply(np.exp)\n",
    "\n",
    "        # calc max drawdown and longest drawdown period\n",
    "        raw['cum_max'] = raw['cum_strategy'].cummax()\n",
    "        drawdown = raw['cum_max'] - raw['cum_strategy']\n",
    "        # when drawdown == 0, we are at the top\n",
    "        temp = drawdown[drawdown == 0]\n",
    "        # transform into periods to be able to compare\n",
    "        drawdown_periods = (temp.index[1:].to_pydatetime() - temp.index[:-1].to_pydatetime())\n",
    "\n",
    "        print(f\"Max drawdown: {round(drawdown.max() * 100, 2)}%\")\n",
    "        print(f\"longest drawdown: {drawdown_periods.max()}\")\n",
    "\n",
    "        self.plot_data(['price', 'SMA1', 'SMA2'], data=raw)\n",
    "        self.plot_data(['cum_returns', 'cum_strategy', 'cum_max'], data=raw)\n",
    "        self.plot_data(['position'], figsize=(10, 2), data=raw)\n",
    "\n",
    "lobt = BackTestLongOnly(start, end, 100000, verbose=True)\n",
    "\n",
    "lobt.run_sma_strategy(90, 194)"
   ]
  }
 ],
 "metadata": {
  "kernelspec": {
   "display_name": "Python 3.8.9 64-bit",
   "language": "python",
   "name": "python3"
  },
  "language_info": {
   "codemirror_mode": {
    "name": "ipython",
    "version": 3
   },
   "file_extension": ".py",
   "mimetype": "text/x-python",
   "name": "python",
   "nbconvert_exporter": "python",
   "pygments_lexer": "ipython3",
   "version": "3.8.9"
  },
  "orig_nbformat": 4,
  "vscode": {
   "interpreter": {
    "hash": "31f2aee4e71d21fbe5cf8b01ff0e069b9275f58929596ceb00d14d90e3e16cd6"
   }
  }
 },
 "nbformat": 4,
 "nbformat_minor": 2
}
