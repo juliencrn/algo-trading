{
 "cells": [
  {
   "cell_type": "code",
   "execution_count": null,
   "metadata": {},
   "outputs": [],
   "source": [
    "import pandas as pd\n",
    "import numpy as np\n",
    "import datetime as dt\n",
    "import websocket\n",
    "import json\n",
    "# import os\n",
    "# import math\n",
    "# import configparser\n",
    "# import time"
   ]
  },
  {
   "cell_type": "code",
   "execution_count": null,
   "metadata": {},
   "outputs": [],
   "source": [
    "WS_URL = 'wss://stream.binance.us:9443/ws/btcusdt@kline_1m'"
   ]
  },
  {
   "cell_type": "code",
   "execution_count": null,
   "metadata": {},
   "outputs": [],
   "source": [
    "class OnlineTrading(object):\n",
    "    def __init__(self):\n",
    "        self.data = pd.DataFrame()\n",
    "\n",
    "    def run(self):\n",
    "        ws = websocket.WebSocketApp(\n",
    "            WS_URL,\n",
    "            on_open=self.__on_open,\n",
    "            on_message=self.__on_message,\n",
    "            on_close=self.__on_close\n",
    "        )\n",
    "        ws.run_forever()\n",
    "\n",
    "    def __on_open(self, ws):\n",
    "        print(\"Connection established\")\n",
    "\n",
    "    def __on_close(self, ws, code, msg):\n",
    "        print(f\"Connection closed\")\n",
    "\n",
    "    def __on_message(self, ws, message):\n",
    "        data = json.loads(message)\n",
    "        close = float(data['k']['c'])\n",
    "        date = dt.datetime.fromtimestamp(int(int(data['E']) / 1000))\n",
    "        is_candle_closed = bool(data['k']['x'])\n",
    "\n",
    "        if is_candle_closed:\n",
    "            # create & append new candle to self.data\n",
    "            new_candle = pd.DataFrame({ \"price\": close }, index=[date])\n",
    "            new_candle.index.name = 'Date'\n",
    "            self.data = pd.concat([self.data, new_candle])\n",
    "\n",
    "            # re-sample in minute candle and calc returns\n",
    "            dr = self.data.resample('1m', label='right').last()\n",
    "            dr['return'] = np.log(dr / dr.shift(1))\n",
    "\n",
    "            print(dr)\n",
    "\n",
    "bot = OnlineTrading()\n",
    "bot.run()"
   ]
  }
 ],
 "metadata": {
  "kernelspec": {
   "display_name": "Python 3.8.9 64-bit",
   "language": "python",
   "name": "python3"
  },
  "language_info": {
   "codemirror_mode": {
    "name": "ipython",
    "version": 3
   },
   "file_extension": ".py",
   "mimetype": "text/x-python",
   "name": "python",
   "nbconvert_exporter": "python",
   "pygments_lexer": "ipython3",
   "version": "3.8.9"
  },
  "orig_nbformat": 4,
  "vscode": {
   "interpreter": {
    "hash": "31f2aee4e71d21fbe5cf8b01ff0e069b9275f58929596ceb00d14d90e3e16cd6"
   }
  }
 },
 "nbformat": 4,
 "nbformat_minor": 2
}
