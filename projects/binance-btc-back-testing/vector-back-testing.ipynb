{
 "cells": [
  {
   "cell_type": "markdown",
   "metadata": {},
   "source": [
    "# Vectorized Back-testing\n",
    "---\n",
    "\n",
    "### Find the better strategy"
   ]
  },
  {
   "cell_type": "code",
   "execution_count": null,
   "metadata": {},
   "outputs": [],
   "source": [
    "import numpy as np\n",
    "import pandas as pd\n",
    "import datetime as dt"
   ]
  },
  {
   "cell_type": "code",
   "execution_count": null,
   "metadata": {},
   "outputs": [],
   "source": [
    "symbol = \"BTCUSDT\"\n",
    "interval = \"1m\"\n",
    "file = f\"{symbol}-{interval}-2020-01-01_2022-08-11.csv\"\n",
    "\n",
    "df = pd.read_csv(file, parse_dates=True, index_col=0)"
   ]
  },
  {
   "cell_type": "code",
   "execution_count": null,
   "metadata": {},
   "outputs": [],
   "source": [
    "from MomVectorBackTester import MomVectorBackTester\n",
    "\n",
    "mom_bt = MomVectorBackTester(df, 1)\n",
    "result = mom_bt.optimize_parameters((1, 500, 10))\n",
    "print(f\"Winner for momentum of {result[0]} with {round(result[1], 2)} of performance.\")\n",
    "mom_bt.plot_results()"
   ]
  },
  {
   "cell_type": "code",
   "execution_count": null,
   "metadata": {},
   "outputs": [],
   "source": [
    "from SMAVectorBackTester import SMAVectorBackTester \n",
    "\n",
    "sma_bt = SMAVectorBackTester(df, verbose=False)\n",
    "result = sma_bt.optimize_parameters((6, 101, 4), (50, 301, 4))\n",
    "\n",
    "print(f\"winner SMAs: {result[0][0], result[0][1]}\")\n",
    "print(f\"winner perf: {result[1]}\")\n",
    "\n",
    "sma_bt.plot_results()"
   ]
  }
 ],
 "metadata": {
  "kernelspec": {
   "display_name": "Python 3.8.9 64-bit",
   "language": "python",
   "name": "python3"
  },
  "language_info": {
   "codemirror_mode": {
    "name": "ipython",
    "version": 3
   },
   "file_extension": ".py",
   "mimetype": "text/x-python",
   "name": "python",
   "nbconvert_exporter": "python",
   "pygments_lexer": "ipython3",
   "version": "3.8.9"
  },
  "orig_nbformat": 4,
  "vscode": {
   "interpreter": {
    "hash": "31f2aee4e71d21fbe5cf8b01ff0e069b9275f58929596ceb00d14d90e3e16cd6"
   }
  }
 },
 "nbformat": 4,
 "nbformat_minor": 2
}
