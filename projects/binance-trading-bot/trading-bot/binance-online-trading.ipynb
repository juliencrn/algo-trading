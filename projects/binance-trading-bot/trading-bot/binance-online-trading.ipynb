{
 "cells": [
  {
   "cell_type": "code",
   "execution_count": null,
   "metadata": {},
   "outputs": [],
   "source": [
    "import pandas as pd\n",
    "import numpy as np\n",
    "import datetime as dt\n",
    "import websocket\n",
    "import zmq\n",
    "import json\n",
    "import plotly.graph_objects as go\n",
    "from plotly.subplots import make_subplots"
   ]
  },
  {
   "cell_type": "code",
   "execution_count": null,
   "metadata": {},
   "outputs": [],
   "source": [
    "context = zmq.Context()\n",
    "socket = context.socket(zmq.SUB)\n",
    "socket.connect('tcp://0.0.0.0:5555')\n",
    "\n",
    "# Message should be in this following format:\n",
    "# \"LOGS:{ /* json data as string */ }\"\n",
    "MSG_KEY = \"LOGS:\"\n",
    "socket.setsockopt_string(zmq.SUBSCRIBE, MSG_KEY)"
   ]
  },
  {
   "cell_type": "code",
   "execution_count": null,
   "metadata": {},
   "outputs": [],
   "source": [
    "f = make_subplots(rows=3, cols=1, shared_xaxes=True, row_width=[1, 1, 3], subplot_titles=[\"Strategy return\", \"Position\", \"Drawdown\"])\n",
    "f.append_trace(go.Scatter(name='BTC-USDT return'), row=1, col=1)\n",
    "f.append_trace(go.Scatter(name='Strategy return'), row=1, col=1)\n",
    "f.append_trace(go.Scatter(name='Strategy Max'), row=1, col=1)\n",
    "f.append_trace(go.Scatter(name='Position'), row=2, col=1)\n",
    "f.append_trace(go.Scatter(name='Drawdown'), row=3, col=1)\n",
    "\n",
    "f.update_layout(height=600, title=\"BTC-USDT Momentum strategy\")\n",
    "fig = go.FigureWidget(f)\n",
    "fig"
   ]
  },
  {
   "cell_type": "code",
   "execution_count": null,
   "metadata": {},
   "outputs": [],
   "source": [
    "df = pd.DataFrame()\n",
    "\n",
    "while True:\n",
    "    # receive and parse message to append it to a DataFrame\n",
    "    msg = socket.recv_string()\n",
    "    _, raw = msg.split(MSG_KEY)\n",
    "    data = json.loads(raw)\n",
    "    date = dt.datetime.fromtimestamp(int(data['timestamp']))\n",
    "    new_df = pd.DataFrame(data['raw'], index=[date])\n",
    "    df = pd.concat([df, new_df])\n",
    "\n",
    "    # Calc additional statistics\n",
    "    df['return'] = np.log(df['price'] / df['price'].shift(1))\n",
    "    df['balance_return'] = np.log(df['balance'] / df['balance'].shift(1))\n",
    "    df['cum_returns'] = df['return'].cumsum().apply(np.exp)\n",
    "    df['cum_strategy'] = df['balance_return'].cumsum().apply(np.exp)\n",
    "    df['cum_max'] = df['cum_strategy'].cummax()\n",
    "    df['drawdown'] = df['cum_max'] - df['cum_strategy']\n",
    "\n",
    "    print(df.tail())\n",
    "\n",
    "    # Update chart\n",
    "    fig.data[0].x = df.index\n",
    "    fig.data[1].x = df.index\n",
    "    fig.data[2].x = df.index\n",
    "    fig.data[3].x = df.index\n",
    "    fig.data[4].x = df.index\n",
    "    fig.data[0].y = df['cum_returns']\n",
    "    fig.data[1].y = df['cum_strategy']\n",
    "    fig.data[2].y = df['cum_max']\n",
    "    fig.data[3].y = df['position']\n",
    "    fig.data[4].y = df['drawdown']\n",
    "\n"
   ]
  }
 ],
 "metadata": {
  "kernelspec": {
   "display_name": "Python 3.8.9 64-bit",
   "language": "python",
   "name": "python3"
  },
  "language_info": {
   "codemirror_mode": {
    "name": "ipython",
    "version": 3
   },
   "file_extension": ".py",
   "mimetype": "text/x-python",
   "name": "python",
   "nbconvert_exporter": "python",
   "pygments_lexer": "ipython3",
   "version": "3.8.9"
  },
  "orig_nbformat": 4,
  "vscode": {
   "interpreter": {
    "hash": "31f2aee4e71d21fbe5cf8b01ff0e069b9275f58929596ceb00d14d90e3e16cd6"
   }
  }
 },
 "nbformat": 4,
 "nbformat_minor": 2
}
